{
 "cells": [
  {
   "cell_type": "code",
   "execution_count": 18,
   "metadata": {},
   "outputs": [],
   "source": [
    "import os\n",
    "import shutil"
   ]
  },
  {
   "cell_type": "code",
   "execution_count": null,
   "metadata": {},
   "outputs": [],
   "source": [
    "# image_path = '/Users/liunutt/Desktop/RA/cat/Pascal VOC 2012.v1-raw.yolov12/valid/images'\n",
    "# label_path = '/Users/liunutt/Desktop/RA/cat/Pascal VOC 2012.v1-raw.yolov12/valid/labels'\n",
    "\n",
    "# image_path = '/Users/liunutt/Desktop/RA/cat/Pascal VOC 2012.v1-raw.yolov12/train/images'\n",
    "# label_path = '/Users/liunutt/Desktop/RA/cat/Pascal VOC 2012.v1-raw.yolov12/train/labels'\n",
    "\n",
    "# image_path = '/Users/liunutt/Desktop/RA/cat/COCO Dataset.v3-yolov8n-640.yolov11 copy/test/images'\n",
    "# label_path = '/Users/liunutt/Desktop/RA/cat/COCO Dataset.v3-yolov8n-640.yolov11 copy/test/labels'\n",
    "\n",
    "# image_path = '/Users/liunutt/Desktop/RA/cat/COCO Dataset.v3-yolov8n-640.yolov11 copy/valid/images'\n",
    "# label_path = '/Users/liunutt/Desktop/RA/cat/COCO Dataset.v3-yolov8n-640.yolov11 copy/valid/labels'\n",
    "\n",
    "# image_path = '/Users/liunutt/Desktop/RA/cat/COCO Dataset.v3-yolov8n-640.yolov11 copy/train/images'\n",
    "# label_path = '/Users/liunutt/Desktop/RA/cat/COCO Dataset.v3-yolov8n-640.yolov11 copy/train/labels'\n",
    "\n",
    "image_path = '/Users/liunutt/Desktop/RA/cat/Objects 365.v1i.yolov12/valid/images'\n",
    "label_path = '/Users/liunutt/Desktop/RA/cat/Objects 365.v1i.yolov12/valid/labels'\n",
    "\n",
    "# pascal = 7\n",
    "# coco = 20\n",
    "# object = 59"
   ]
  },
  {
   "cell_type": "code",
   "execution_count": null,
   "metadata": {},
   "outputs": [],
   "source": [
    "def remove_invalid_data(image_path, label_path):\n",
    "    if not os.path.exists(label_path) or not os.path.exists(image_path):\n",
    "        return\n",
    "\n",
    "    for label_file in os.listdir(label_path):\n",
    "        label_file_path = os.path.join(label_path, label_file)\n",
    "\n",
    "        # Find the corresponding image file\n",
    "        image_file = label_file.replace('.txt', '.jpg')  # Assuming images are .jpg\n",
    "        image_file_path = os.path.join(image_path, image_file)\n",
    "\n",
    "        # Read the label file and check each line\n",
    "        valid_lines = []\n",
    "        contains_valid_data = False\n",
    "\n",
    "        with open(label_file_path, 'r', errors='ignore') as f:\n",
    "            for line in f:\n",
    "                if line.startswith('2') or line.startswith('11'):\n",
    "                    valid_lines.append(line)  # Keep the line starting with '7'\n",
    "                    contains_valid_data = True\n",
    "                else:\n",
    "                    valid_lines.append(line)  # Keep other lines as well\n",
    "\n",
    "        # If there is at least one valid line (starting with '7'), keep the file\n",
    "        if contains_valid_data:\n",
    "            with open(label_file_path, 'w') as f:\n",
    "                f.writelines(valid_lines)\n",
    "\n",
    "            # print(f\"Keeping: {label_file_path} and {image_file_path}\")\n",
    "        else:\n",
    "            # print(f\"Removing: {label_file_path} and {image_file_path}\")\n",
    "            os.remove(label_file_path)  # Remove label file\n",
    "            if os.path.exists(image_file_path):\n",
    "                os.remove(image_file_path)  # Remove corresponding image\n"
   ]
  },
  {
   "cell_type": "code",
   "execution_count": 21,
   "metadata": {},
   "outputs": [],
   "source": [
    "remove_invalid_data(image_path, label_path)"
   ]
  },
  {
   "cell_type": "code",
   "execution_count": 7,
   "metadata": {},
   "outputs": [],
   "source": [
    "def remove_zero_byte_files(image_path, label_path):\n",
    "    # Remove zero-byte label files and corresponding images\n",
    "    for label_file in os.listdir(label_path):\n",
    "        label_file_path = os.path.join(label_path, label_file)\n",
    "        image_file = label_file.replace('.txt', '.jpg')\n",
    "        image_file_path = os.path.join(image_path, image_file)\n",
    "\n",
    "        if os.path.getsize(label_file_path) == 0:\n",
    "            print(f\"Removing zero-byte files: {label_file_path} and {image_file_path}\")\n",
    "            os.remove(label_file_path)\n",
    "            if os.path.exists(image_file_path):\n",
    "                os.remove(image_file_path)"
   ]
  },
  {
   "cell_type": "code",
   "execution_count": 8,
   "metadata": {},
   "outputs": [],
   "source": [
    "remove_zero_byte_files(image_path, label_path)"
   ]
  },
  {
   "cell_type": "code",
   "execution_count": 9,
   "metadata": {},
   "outputs": [],
   "source": [
    "def remove_lines_not_starting_with_7(label_path):\n",
    "    # Remove lines that do not start with '7' in label files\n",
    "    for label_file in os.listdir(label_path):\n",
    "        label_file_path = os.path.join(label_path, label_file)\n",
    "\n",
    "        with open(label_file_path, 'r', errors='ignore') as f:\n",
    "            valid_lines = [line for line in f if line.startswith('59')]\n",
    "\n",
    "        # Overwrite the label file with valid lines only\n",
    "        with open(label_file_path, 'w') as f:\n",
    "            f.writelines(valid_lines)\n",
    "\n",
    "        if not valid_lines:  # If the label file is empty after cleaning\n",
    "            print(f\"Removing empty label file: {label_file_path}\")\n",
    "            os.remove(label_file_path)"
   ]
  },
  {
   "cell_type": "code",
   "execution_count": 10,
   "metadata": {},
   "outputs": [],
   "source": [
    "remove_lines_not_starting_with_7(label_path)"
   ]
  },
  {
   "cell_type": "code",
   "execution_count": 11,
   "metadata": {},
   "outputs": [],
   "source": [
    "image_path = '/Users/liunutt/Desktop/RA/cat/Objects 365.v1i.yolov12/train/images'\n",
    "label_path = '/Users/liunutt/Desktop/RA/cat/Objects 365.v1i.yolov12/train/labels'"
   ]
  },
  {
   "cell_type": "code",
   "execution_count": 12,
   "metadata": {},
   "outputs": [],
   "source": [
    "def remove_invalid_data(image_path, label_path):\n",
    "    if not os.path.exists(label_path) or not os.path.exists(image_path):\n",
    "        return\n",
    "\n",
    "    for label_file in os.listdir(label_path):\n",
    "        label_file_path = os.path.join(label_path, label_file)\n",
    "\n",
    "        # Find the corresponding image file\n",
    "        image_file = label_file.replace('.txt', '.jpg')  # Assuming images are .jpg\n",
    "        image_file_path = os.path.join(image_path, image_file)\n",
    "\n",
    "        # Read the label file and check each line\n",
    "        valid_lines = []\n",
    "        contains_valid_data = False\n",
    "\n",
    "        with open(label_file_path, 'r', errors='ignore') as f:\n",
    "            for line in f:\n",
    "                if line.startswith('59'):\n",
    "                    valid_lines.append(line)  # Keep the line starting with '7'\n",
    "                    contains_valid_data = True\n",
    "                else:\n",
    "                    valid_lines.append(line)  # Keep other lines as well\n",
    "\n",
    "        # If there is at least one valid line (starting with '7'), keep the file\n",
    "        if contains_valid_data:\n",
    "            with open(label_file_path, 'w') as f:\n",
    "                f.writelines(valid_lines)\n",
    "\n",
    "            # print(f\"Keeping: {label_file_path} and {image_file_path}\")\n",
    "        else:\n",
    "            # print(f\"Removing: {label_file_path} and {image_file_path}\")\n",
    "            os.remove(label_file_path)  # Remove label file\n",
    "            if os.path.exists(image_file_path):\n",
    "                os.remove(image_file_path)  # Remove corresponding image"
   ]
  },
  {
   "cell_type": "code",
   "execution_count": 13,
   "metadata": {},
   "outputs": [],
   "source": [
    "remove_invalid_data(image_path, label_path)"
   ]
  },
  {
   "cell_type": "code",
   "execution_count": 14,
   "metadata": {},
   "outputs": [],
   "source": [
    "def remove_zero_byte_files(image_path, label_path):\n",
    "    # Remove zero-byte label files and corresponding images\n",
    "    for label_file in os.listdir(label_path):\n",
    "        label_file_path = os.path.join(label_path, label_file)\n",
    "        image_file = label_file.replace('.txt', '.jpg')\n",
    "        image_file_path = os.path.join(image_path, image_file)\n",
    "\n",
    "        if os.path.getsize(label_file_path) == 0:\n",
    "            print(f\"Removing zero-byte files: {label_file_path} and {image_file_path}\")\n",
    "            os.remove(label_file_path)\n",
    "            if os.path.exists(image_file_path):\n",
    "                os.remove(image_file_path)"
   ]
  },
  {
   "cell_type": "code",
   "execution_count": 15,
   "metadata": {},
   "outputs": [],
   "source": [
    "remove_zero_byte_files(image_path, label_path)"
   ]
  },
  {
   "cell_type": "code",
   "execution_count": 16,
   "metadata": {},
   "outputs": [],
   "source": [
    "def remove_lines_not_starting_with_7(label_path):\n",
    "    # Remove lines that do not start with '7' in label files\n",
    "    for label_file in os.listdir(label_path):\n",
    "        label_file_path = os.path.join(label_path, label_file)\n",
    "\n",
    "        with open(label_file_path, 'r', errors='ignore') as f:\n",
    "            valid_lines = [line for line in f if line.startswith('59')]\n",
    "\n",
    "        # Overwrite the label file with valid lines only\n",
    "        with open(label_file_path, 'w') as f:\n",
    "            f.writelines(valid_lines)\n",
    "\n",
    "        if not valid_lines:  # If the label file is empty after cleaning\n",
    "            print(f\"Removing empty label file: {label_file_path}\")\n",
    "            os.remove(label_file_path)"
   ]
  },
  {
   "cell_type": "code",
   "execution_count": 17,
   "metadata": {},
   "outputs": [],
   "source": [
    "remove_lines_not_starting_with_7(label_path)"
   ]
  },
  {
   "cell_type": "code",
   "execution_count": null,
   "metadata": {},
   "outputs": [],
   "source": []
  }
 ],
 "metadata": {
  "kernelspec": {
   "display_name": "Python 3",
   "language": "python",
   "name": "python3"
  },
  "language_info": {
   "codemirror_mode": {
    "name": "ipython",
    "version": 3
   },
   "file_extension": ".py",
   "mimetype": "text/x-python",
   "name": "python",
   "nbconvert_exporter": "python",
   "pygments_lexer": "ipython3",
   "version": "3.9.6"
  }
 },
 "nbformat": 4,
 "nbformat_minor": 2
}
